{
 "cells": [
  {
   "cell_type": "code",
   "execution_count": 1,
   "metadata": {},
   "outputs": [],
   "source": [
    "import pandas as pd\n",
    "from sklearn.model_selection import train_test_split, GridSearchCV\n",
    "from sklearn.naive_bayes import GaussianNB\n",
    "from sklearn.metrics import classification_report, confusion_matrix, accuracy_score"
   ]
  },
  {
   "cell_type": "code",
   "execution_count": 2,
   "metadata": {},
   "outputs": [],
   "source": [
    "X = pd.read_csv(r\"C:\\Users\\ayank_hyn0aug\\OneDrive\\Desktop\\equipment_monitoring\\X_resampled.csv\")\n",
    "y = pd.read_csv(r\"C:\\Users\\ayank_hyn0aug\\OneDrive\\Desktop\\equipment_monitoring\\y_resampled.csv\").squeeze()"
   ]
  },
  {
   "cell_type": "code",
   "execution_count": 3,
   "metadata": {},
   "outputs": [],
   "source": [
    "X_train, X_temp, y_train, y_temp = train_test_split(X, y, test_size=0.2, random_state=42, stratify=y)\n",
    "X_val, X_test, y_val, y_test = train_test_split(X_temp, y_temp, test_size=0.5, random_state=42, stratify=y_temp)"
   ]
  },
  {
   "cell_type": "code",
   "execution_count": 4,
   "metadata": {},
   "outputs": [],
   "source": [
    "model = GaussianNB()\n",
    "param_grid = {'var_smoothing': [1e-9, 1e-8, 1e-7, 1e-6, 1e-5]}\n",
    "grid_search = GridSearchCV(model, param_grid, cv=5, scoring='accuracy', n_jobs=-1)"
   ]
  },
  {
   "cell_type": "code",
   "execution_count": 5,
   "metadata": {},
   "outputs": [
    {
     "name": "stdout",
     "output_type": "stream",
     "text": [
      "Best Parameters: {'var_smoothing': 1e-07}\n"
     ]
    }
   ],
   "source": [
    "grid_search.fit(X_train, y_train)\n",
    "print(f'Best Parameters: {grid_search.best_params_}')"
   ]
  },
  {
   "cell_type": "code",
   "execution_count": 12,
   "metadata": {},
   "outputs": [
    {
     "name": "stdout",
     "output_type": "stream",
     "text": [
      "Training Set Results:\n",
      "[[4986  427]\n",
      " [ 406 5008]]\n",
      "              precision    recall  f1-score   support\n",
      "\n",
      "           0       0.92      0.92      0.92      5413\n",
      "           1       0.92      0.93      0.92      5414\n",
      "\n",
      "    accuracy                           0.92     10827\n",
      "   macro avg       0.92      0.92      0.92     10827\n",
      "weighted avg       0.92      0.92      0.92     10827\n",
      "\n",
      "Training Accuracy: 0.9230627135864043\n"
     ]
    }
   ],
   "source": [
    "train_predictions = grid_search.predict(X_train)\n",
    "print('Training Set Results:')\n",
    "print(confusion_matrix(y_train, train_predictions))\n",
    "print(classification_report(y_train, train_predictions))\n",
    "print(f'Training Accuracy: {accuracy_score(y_train, train_predictions)}')"
   ]
  },
  {
   "cell_type": "code",
   "execution_count": 13,
   "metadata": {},
   "outputs": [
    {
     "name": "stdout",
     "output_type": "stream",
     "text": [
      "Validation Set Results:\n",
      "[[616  61]\n",
      " [ 51 625]]\n",
      "              precision    recall  f1-score   support\n",
      "\n",
      "           0       0.92      0.91      0.92       677\n",
      "           1       0.91      0.92      0.92       676\n",
      "\n",
      "    accuracy                           0.92      1353\n",
      "   macro avg       0.92      0.92      0.92      1353\n",
      "weighted avg       0.92      0.92      0.92      1353\n",
      "\n",
      "Validation Accuracy: 0.9172209903917221\n"
     ]
    }
   ],
   "source": [
    "val_predictions = grid_search.predict(X_val)\n",
    "print('Validation Set Results:')\n",
    "print(confusion_matrix(y_val, val_predictions))\n",
    "print(classification_report(y_val, val_predictions))\n",
    "print(f'Validation Accuracy: {accuracy_score(y_val, val_predictions)}')"
   ]
  },
  {
   "cell_type": "code",
   "execution_count": 14,
   "metadata": {},
   "outputs": [
    {
     "data": {
      "text/html": [
       "<div>\n",
       "<style scoped>\n",
       "    .dataframe tbody tr th:only-of-type {\n",
       "        vertical-align: middle;\n",
       "    }\n",
       "\n",
       "    .dataframe tbody tr th {\n",
       "        vertical-align: top;\n",
       "    }\n",
       "\n",
       "    .dataframe thead th {\n",
       "        text-align: right;\n",
       "    }\n",
       "</style>\n",
       "<table border=\"1\" class=\"dataframe\">\n",
       "  <thead>\n",
       "    <tr style=\"text-align: right;\">\n",
       "      <th></th>\n",
       "      <th>temperature</th>\n",
       "      <th>pressure</th>\n",
       "      <th>vibration</th>\n",
       "      <th>humidity</th>\n",
       "      <th>equipment_Compressor</th>\n",
       "      <th>equipment_Pump</th>\n",
       "      <th>equipment_Turbine</th>\n",
       "      <th>location_Atlanta</th>\n",
       "      <th>location_Chicago</th>\n",
       "      <th>location_Houston</th>\n",
       "      <th>location_New York</th>\n",
       "      <th>location_San Francisco</th>\n",
       "    </tr>\n",
       "  </thead>\n",
       "  <tbody>\n",
       "    <tr>\n",
       "      <th>8961</th>\n",
       "      <td>80.237018</td>\n",
       "      <td>25.929956</td>\n",
       "      <td>0.819636</td>\n",
       "      <td>58.901135</td>\n",
       "      <td>False</td>\n",
       "      <td>True</td>\n",
       "      <td>True</td>\n",
       "      <td>False</td>\n",
       "      <td>False</td>\n",
       "      <td>True</td>\n",
       "      <td>False</td>\n",
       "      <td>True</td>\n",
       "    </tr>\n",
       "    <tr>\n",
       "      <th>3890</th>\n",
       "      <td>67.382417</td>\n",
       "      <td>29.275898</td>\n",
       "      <td>2.351635</td>\n",
       "      <td>57.656303</td>\n",
       "      <td>False</td>\n",
       "      <td>False</td>\n",
       "      <td>True</td>\n",
       "      <td>True</td>\n",
       "      <td>False</td>\n",
       "      <td>False</td>\n",
       "      <td>False</td>\n",
       "      <td>False</td>\n",
       "    </tr>\n",
       "    <tr>\n",
       "      <th>4350</th>\n",
       "      <td>54.193961</td>\n",
       "      <td>37.252667</td>\n",
       "      <td>1.959402</td>\n",
       "      <td>44.377008</td>\n",
       "      <td>False</td>\n",
       "      <td>False</td>\n",
       "      <td>True</td>\n",
       "      <td>False</td>\n",
       "      <td>False</td>\n",
       "      <td>True</td>\n",
       "      <td>False</td>\n",
       "      <td>False</td>\n",
       "    </tr>\n",
       "    <tr>\n",
       "      <th>4772</th>\n",
       "      <td>75.055579</td>\n",
       "      <td>39.947699</td>\n",
       "      <td>2.280511</td>\n",
       "      <td>42.004983</td>\n",
       "      <td>True</td>\n",
       "      <td>False</td>\n",
       "      <td>False</td>\n",
       "      <td>False</td>\n",
       "      <td>True</td>\n",
       "      <td>False</td>\n",
       "      <td>False</td>\n",
       "      <td>False</td>\n",
       "    </tr>\n",
       "    <tr>\n",
       "      <th>11476</th>\n",
       "      <td>54.831952</td>\n",
       "      <td>34.183347</td>\n",
       "      <td>2.061994</td>\n",
       "      <td>70.947928</td>\n",
       "      <td>False</td>\n",
       "      <td>True</td>\n",
       "      <td>True</td>\n",
       "      <td>False</td>\n",
       "      <td>False</td>\n",
       "      <td>False</td>\n",
       "      <td>False</td>\n",
       "      <td>True</td>\n",
       "    </tr>\n",
       "  </tbody>\n",
       "</table>\n",
       "</div>"
      ],
      "text/plain": [
       "       temperature   pressure  vibration   humidity  equipment_Compressor  \\\n",
       "8961     80.237018  25.929956   0.819636  58.901135                 False   \n",
       "3890     67.382417  29.275898   2.351635  57.656303                 False   \n",
       "4350     54.193961  37.252667   1.959402  44.377008                 False   \n",
       "4772     75.055579  39.947699   2.280511  42.004983                  True   \n",
       "11476    54.831952  34.183347   2.061994  70.947928                 False   \n",
       "\n",
       "       equipment_Pump  equipment_Turbine  location_Atlanta  location_Chicago  \\\n",
       "8961             True               True             False             False   \n",
       "3890            False               True              True             False   \n",
       "4350            False               True             False             False   \n",
       "4772            False              False             False              True   \n",
       "11476            True               True             False             False   \n",
       "\n",
       "       location_Houston  location_New York  location_San Francisco  \n",
       "8961               True              False                    True  \n",
       "3890              False              False                   False  \n",
       "4350               True              False                   False  \n",
       "4772              False              False                   False  \n",
       "11476             False              False                    True  "
      ]
     },
     "execution_count": 14,
     "metadata": {},
     "output_type": "execute_result"
    }
   ],
   "source": [
    "X_test.head()"
   ]
  },
  {
   "cell_type": "code",
   "execution_count": 15,
   "metadata": {},
   "outputs": [
    {
     "name": "stdout",
     "output_type": "stream",
     "text": [
      "Actual Data :\n",
      "[0 1 0 0 1 0 0 1 1 0]\n",
      "Sample Data Predictions:\n",
      "[0 1 0 0 1 0 0 1 1 0]\n"
     ]
    }
   ],
   "source": [
    "import joblib\n",
    "model_path=r\"C:\\Users\\ayank_hyn0aug\\OneDrive\\Desktop\\equipment_monitoring\\naive_bayes_model.pkl\"\n",
    "joblib.dump(grid_search.best_estimator_,model_path)\n",
    "\n",
    "# Load the model and run on sample data\n",
    "loaded_model = joblib.load(model_path)\n",
    "sample_data = X_test.sample(10, random_state=101)\n",
    "sample_predictions = loaded_model.predict(sample_data)\n",
    "print('Actual Data :')\n",
    "print(y_test.loc[sample_data.index].values)\n",
    "print('Sample Data Predictions:')\n",
    "print(sample_predictions)"
   ]
  },
  {
   "cell_type": "code",
   "execution_count": 16,
   "metadata": {},
   "outputs": [
    {
     "name": "stdout",
     "output_type": "stream",
     "text": [
      "Test Set Evaluation:\n",
      "              precision    recall  f1-score   support\n",
      "\n",
      "           0       0.92      0.89      0.91       677\n",
      "           1       0.90      0.92      0.91       677\n",
      "\n",
      "    accuracy                           0.91      1354\n",
      "   macro avg       0.91      0.91      0.91      1354\n",
      "weighted avg       0.91      0.91      0.91      1354\n",
      "\n",
      "[[605  72]\n",
      " [ 52 625]]\n",
      "Test Accuracy: 0.9084194977843427\n"
     ]
    }
   ],
   "source": [
    "best_model = grid_search.best_estimator_\n",
    "y_test_pred = best_model.predict(X_test)\n",
    "print('Test Set Evaluation:')\n",
    "print(classification_report(y_test, y_test_pred))\n",
    "print(confusion_matrix(y_test, y_test_pred))\n",
    "print('Test Accuracy:', accuracy_score(y_test, y_test_pred))"
   ]
  },
  {
   "cell_type": "code",
   "execution_count": null,
   "metadata": {},
   "outputs": [],
   "source": []
  }
 ],
 "metadata": {
  "kernelspec": {
   "display_name": "Python 3",
   "language": "python",
   "name": "python3"
  },
  "language_info": {
   "codemirror_mode": {
    "name": "ipython",
    "version": 3
   },
   "file_extension": ".py",
   "mimetype": "text/x-python",
   "name": "python",
   "nbconvert_exporter": "python",
   "pygments_lexer": "ipython3",
   "version": "3.12.2"
  }
 },
 "nbformat": 4,
 "nbformat_minor": 2
}
